{
 "cells": [
  {
   "cell_type": "code",
   "execution_count": 4,
   "metadata": {},
   "outputs": [
    {
     "name": "stdout",
     "output_type": "stream",
     "text": [
      "Wall time: 0 ns\n"
     ]
    }
   ],
   "source": [
    "%%time\n",
    "import csv\n",
    "import re\n",
    "import numpy as np\n",
    "import pandas as pd\n",
    "import seaborn as sns\n",
    "import matplotlib.pyplot as plt"
   ]
  },
  {
   "cell_type": "code",
   "execution_count": 53,
   "metadata": {},
   "outputs": [
    {
     "name": "stdout",
     "output_type": "stream",
     "text": [
      "acute: \n",
      "14929\n",
      " \n",
      "skill_nurse_fac\n",
      "28347\n",
      " \n",
      "HomeHealth:\n",
      "57055\n",
      " \n",
      "IRF: \n",
      "1073\n",
      " \n",
      "LTCH: \n",
      "1002\n",
      " \n",
      "Hospice: \n",
      "9567\n",
      " \n",
      "Total Records: \n",
      "0\n",
      " \n",
      "Wall time: 29min 58s\n"
     ]
    }
   ],
   "source": [
    "%%time\n",
    "count=0\n",
    "acute_hosp=0\n",
    "skill_nurse_fac=0\n",
    "IRF=0\n",
    "LTCH=0\n",
    "HomeHealth=0\n",
    "Hospice=0\n",
    "\n",
    "#all agengies\n",
    "Local_Education_Agency=0\n",
    "Case_Managment=0\n",
    "Disabled_Services=0\n",
    "Home_Infusion=0\n",
    "Nursing_Care=0\n",
    "Public_Health=0\n",
    "Community_Health=0\n",
    "PACE=0\n",
    "Voluntary=0\n",
    "Early_Intervention=0\n",
    "Foster_Care=0\n",
    "Home_Support=0\n",
    "Supports_Brokerage=0\n",
    "\n",
    "def pattern_finder(pattern):\n",
    "    with open('C:\\\\Users\\\\Greg\\\\Downloads\\\\NPPES_Data_Dissemination_August_2019\\\\npidata_pfile_20050523-20190811.csv', 'r', encoding = 'utf8') as inf, open('C:\\\\Users\\\\Greg\\\\Downloads\\\\NPI_File.txt', 'w') as outf:    \n",
    "        spamreader = csv.reader(inf, delimiter=',')\n",
    "        classification = 0\n",
    "        for line in spamreader:           \n",
    "            if (pattern == line[47] and line[50] == 'Y') \\\n",
    "            or (pattern == line[51] and line[54]== 'Y')  \\\n",
    "            or (pattern == line[55] and line[58]== 'Y')  \\\n",
    "            or (pattern == line[59] and line[62]== 'Y')  \\\n",
    "            or (pattern == line[63] and line[66]== 'Y')  \\\n",
    "            or (pattern == line[67] and line[70]== 'Y')  \\\n",
    "            or (pattern == line[71] and line[74]== 'Y')  \\\n",
    "            or (pattern == line[75] and line[78]== 'Y')  \\\n",
    "            or (pattern == line[79] and line[82]== 'Y')  \\\n",
    "            or (pattern == line[83] and line[86]== 'Y')  \\\n",
    "            or (pattern == line[87] and line[90]== 'Y')  \\\n",
    "            or (pattern == line[91] and line[94]== 'Y')  \\\n",
    "            or (pattern == line[95] and line[98]== 'Y')  \\\n",
    "            or (pattern == line[99] and line[102]== 'Y')  \\\n",
    "            or (pattern == line[103] and line[106]== 'Y'):                   \n",
    "                classification+=1             \n",
    "    return classification\n",
    "            \n",
    "    \n",
    "    \n",
    "\n",
    "#with open('C:\\\\Users\\\\Greg\\\\Downloads\\\\NPPES_Data_Dissemination_August_2019\\\\npidata_pfile_20050523-20190811.csv', 'r', encoding = 'utf8') as inf, open('C:\\\\Users\\\\Greg\\\\Downloads\\\\NPI_File.txt', 'w') as outf:    \n",
    "    #spamreader = csv.reader(inf, delimiter=',')\n",
    "    \n",
    "    #for line in spamreader:\n",
    "        #count+=1  \n",
    "\n",
    "#First 6 requirments\n",
    "acute_hosp = pattern_finder('282N00000X')\n",
    "skill_nurse_fac = pattern_finder('314000000X')\n",
    "IRF = pattern_finder('283X00000X')\n",
    "LTCH = pattern_finder('282E00000X')\n",
    "HomeHealth = pattern_finder('251E00000X')\n",
    "Hospice = pattern_finder('251G00000X')   \n",
    "                                                       \n",
    "print('acute: ')\n",
    "print(acute_hosp)\n",
    "print(' ')\n",
    "print('skill_nurse_fac')\n",
    "print(skill_nurse_fac)\n",
    "print(' ')\n",
    "print('HomeHealth:')\n",
    "print(HomeHealth)\n",
    "print(' ')\n",
    "print('IRF: ')\n",
    "print(IRF)\n",
    "print(' ')\n",
    "print('LTCH: ')\n",
    "print(LTCH)\n",
    "print(' ')\n",
    "print('Hospice: ')\n",
    "print(Hospice)\n",
    "print(' ')\n",
    "print('Total Records: ')\n",
    "print(count)\n",
    "print(' ')\n",
    "\n",
    "            \n",
    "            \n",
    "            "
   ]
  },
  {
   "cell_type": "code",
   "execution_count": 97,
   "metadata": {},
   "outputs": [
    {
     "name": "stdout",
     "output_type": "stream",
     "text": [
      "all agencies\n"
     ]
    },
    {
     "ename": "TypeError",
     "evalue": "unsupported operand type(s) for +: 'int' and 'str'",
     "output_type": "error",
     "traceback": [
      "\u001b[1;31m---------------------------------------------------------------------------\u001b[0m",
      "\u001b[1;31mTypeError\u001b[0m                                 Traceback (most recent call last)",
      "\u001b[1;32m<timed exec>\u001b[0m in \u001b[0;36m<module>\u001b[1;34m\u001b[0m\n",
      "\u001b[1;31mTypeError\u001b[0m: unsupported operand type(s) for +: 'int' and 'str'"
     ]
    }
   ],
   "source": [
    "%%time\n",
    "#all agengies\n",
    "Local_Education_Agency = pattern_finder('251300000X')\n",
    "Case_Managment=pattern_finder('251B00000X')\n",
    "Disabled_Services=pattern_finder('251C00000X')\n",
    "Home_Infusion=pattern_finder('251F00000X')\n",
    "Nursing_Care=pattern_finder('251J00000X')\n",
    "Public_Health=pattern_finder('251K00000X')\n",
    "Community_Health=pattern_finder('251S00000X')\n",
    "PACE=pattern_finder('251T00000X')\n",
    "Voluntary=pattern_finder('251V00000X')\n",
    "Early_Intervention=pattern_finder('252Y00000X')\n",
    "Foster_Care=pattern_finder('253J00000X')\n",
    "Home_Support=pattern_finder('253Z00000X')\n",
    "Supports_Brokerage=pattern_finder('251X00000Z')"
   ]
  },
  {
   "cell_type": "code",
   "execution_count": 105,
   "metadata": {},
   "outputs": [
    {
     "name": "stdout",
     "output_type": "stream",
     "text": [
      "All agencies: \n",
      "\n",
      "14374    local education agency\n",
      "13300    case managment\n",
      "7189    disabled services\n",
      "399    home infusion\n",
      "3748    nursing care\n",
      "7197    public health\n",
      "47929    community health\n",
      "369    pace\n",
      "2430    voluntary\n",
      "6534    early intervention\n",
      "1535    foster care\n",
      "15334    home support\n"
     ]
    }
   ],
   "source": [
    "#all agengies\n",
    "print('All agencies: \\n')\n",
    "print(Local_Education_Agency,  '   local education agency')\n",
    "print(Case_Managment, '   case managment')\n",
    "print(Disabled_Services, '   disabled services')\n",
    "print(Home_Infusion, '   home infusion')\n",
    "print(Nursing_Care, '   nursing care')\n",
    "print(Public_Health, '   public health')\n",
    "print(Community_Health, '   community health')\n",
    "print(PACE, '   pace')\n",
    "print(Voluntary, '   voluntary')\n",
    "print(Early_Intervention, '   early intervention')\n",
    "print(Foster_Care, '   foster care')\n",
    "print(Home_Support, '   home support')"
   ]
  },
  {
   "cell_type": "code",
   "execution_count": 70,
   "metadata": {},
   "outputs": [
    {
     "name": "stdout",
     "output_type": "stream",
     "text": [
      "6093548\n",
      "6093547\n"
     ]
    }
   ],
   "source": [
    "#Count total NPI's\n",
    "count=0\n",
    "with open('C:\\\\Users\\\\Greg\\\\Downloads\\\\NPPES_Data_Dissemination_August_2019\\\\npidata_pfile_20050523-20190811.csv', 'r', encoding = 'utf8') as inf:    \n",
    "        spamreader = csv.reader(inf, delimiter=',')        \n",
    "        for line in spamreader:\n",
    "            if line[0] != '':                \n",
    "                count+=1\n",
    "                            \n",
    "print(count)\n",
    "print(count-1)\n",
    "             "
   ]
  },
  {
   "cell_type": "code",
   "execution_count": 72,
   "metadata": {},
   "outputs": [],
   "source": [
    "#minus 1 for NPI header\n",
    "#There are a lot of NULL NPI's for line[0]\n",
    "count = count-1"
   ]
  },
  {
   "cell_type": "code",
   "execution_count": 95,
   "metadata": {},
   "outputs": [
    {
     "name": "stderr",
     "output_type": "stream",
     "text": [
      "test_acute (__main__.testpatterns) ... ok\n",
      "test_skill (__main__.testpatterns) ... ok\n",
      "\n",
      "----------------------------------------------------------------------\n",
      "Ran 2 tests in 293.858s\n",
      "\n",
      "OK\n"
     ]
    },
    {
     "data": {
      "text/plain": [
       "<unittest.main.TestProgram at 0x1f3206dc898>"
      ]
     },
     "execution_count": 95,
     "metadata": {},
     "output_type": "execute_result"
    }
   ],
   "source": [
    "import unittest\n",
    "\n",
    "class testpatterns(unittest.TestCase):\n",
    "    \n",
    "    def test_acute(self):\n",
    "        result = pattern_finder('282N00000X')\n",
    "        self.assertEqual(result, 14929)\n",
    "        \n",
    "    def test_skill(self):\n",
    "        result = pattern_finder('314000000X')\n",
    "        self.assertEqual(result,28347)\n",
    "                    \n",
    "unittest.main(argv=[''], verbosity=2, exit=False)"
   ]
  },
  {
   "cell_type": "code",
   "execution_count": 107,
   "metadata": {},
   "outputs": [
    {
     "name": "stdout",
     "output_type": "stream",
     "text": [
      "[14929, 1073, 1002, 28347, 57055, 9567, 6093547]\n"
     ]
    }
   ],
   "source": [
    "#Build dataframe of counts\n",
    "values=[]\n",
    "values.append(acute_hosp)\n",
    "values.append(IRF)\n",
    "values.append(LTCH)\n",
    "values.append(skill_nurse_fac)\n",
    "values.append(HomeHealth)\n",
    "values.append(Hospice)\n",
    "values.append(count)\n",
    "\n",
    "print(values)"
   ]
  },
  {
   "cell_type": "code",
   "execution_count": 108,
   "metadata": {},
   "outputs": [],
   "source": [
    "# list of lists\n",
    "list_of_lists = [\n",
    "    ['Acute_Hosp', 22001],\n",
    "    ['IRF', 1237],\n",
    "    ['LTCH', 1073],\n",
    "    ['SNF', 56002],\n",
    "    ['HH_Care', 60999],\n",
    "    ['Hospice',10081]\n",
    "    #['Count',6093548]\n",
    "]\n",
    "\n",
    "# columns\n",
    "columns = ['Type', 'Count']\n",
    "\n",
    "x=pd.DataFrame(list_of_lists, columns=columns)"
   ]
  },
  {
   "cell_type": "code",
   "execution_count": 115,
   "metadata": {},
   "outputs": [],
   "source": [
    "import seaborn as sns\n",
    "import matplotlib.pyplot as plt"
   ]
  },
  {
   "cell_type": "code",
   "execution_count": 113,
   "metadata": {},
   "outputs": [
    {
     "data": {
      "image/png": "[encoded data removed]",
      "text/plain": [
       "<Figure size 432x288 with 1 Axes>"
      ]
     },
     "metadata": {},
     "output_type": "display_data"
    }
   ],
   "source": [
    "sns.set(style=\"whitegrid\")\n",
    "ax = sns.barplot(x=\"Count\", y=\"Type\", data=x)"
   ]
  },
  {
   "cell_type": "code",
   "execution_count": 116,
   "metadata": {},
   "outputs": [],
   "source": [
    "# list of lists\n",
    "list_of_lists2 = [\n",
    "    ['Acute_Hosp', 22001],\n",
    "    ['IRF', 1237],\n",
    "    ['LTCH', 1073],\n",
    "    ['SNF', 56002],\n",
    "    ['HH_Care', 60999],\n",
    "    ['Hospice',10081],\n",
    "    ['Count',6093548]\n",
    "]\n",
    "\n",
    "# columns\n",
    "columns2 = ['Type', 'Count']\n",
    "\n",
    "x2=pd.DataFrame(list_of_lists2, columns=columns2)"
   ]
  },
  {
   "cell_type": "code",
   "execution_count": 117,
   "metadata": {},
   "outputs": [
    {
     "data": {
      "text/plain": [
       "([<matplotlib.patches.Wedge at 0x1f323347748>,\n",
       "  <matplotlib.patches.Wedge at 0x1f323347c18>,\n",
       "  <matplotlib.patches.Wedge at 0x1f323350128>,\n",
       "  <matplotlib.patches.Wedge at 0x1f3233505f8>,\n",
       "  <matplotlib.patches.Wedge at 0x1f323350b38>,\n",
       "  <matplotlib.patches.Wedge at 0x1f32335a0b8>,\n",
       "  <matplotlib.patches.Wedge at 0x1f32335a5f8>],\n",
       " [Text(1.09993,0.0121744,''),\n",
       "  Text(1.09972,0.0250317,''),\n",
       "  Text(1.09969,0.0263096,''),\n",
       "  Text(1.09848,0.0578689,''),\n",
       "  Text(1.09317,0.122386,''),\n",
       "  Text(1.0881,0.161389,''),\n",
       "  Text(-1.09681,-0.083695,'')])"
      ]
     },
     "execution_count": 117,
     "metadata": {},
     "output_type": "execute_result"
    },
    {
     "data": {
      "image/png": "[encoded data removed]",
      "text/plain": [
       "<Figure size 432x288 with 1 Axes>"
      ]
     },
     "metadata": {},
     "output_type": "display_data"
    }
   ],
   "source": [
    "\n",
    "plt.pie(x2['Count'])"
   ]
  },
  {
   "cell_type": "code",
   "execution_count": 118,
   "metadata": {},
   "outputs": [
    {
     "data": {
      "text/plain": [
       "([<matplotlib.patches.Wedge at 0x1f3233941d0>,\n",
       "  <matplotlib.patches.Wedge at 0x1f3233946a0>,\n",
       "  <matplotlib.patches.Wedge at 0x1f323394be0>,\n",
       "  <matplotlib.patches.Wedge at 0x1f32339e160>,\n",
       "  <matplotlib.patches.Wedge at 0x1f32339e6a0>,\n",
       "  <matplotlib.patches.Wedge at 0x1f32339ebe0>],\n",
       " [Text(0.987338,0.484938,''),\n",
       "  Text(0.649863,0.887512,''),\n",
       "  Text(0.60659,0.917632,''),\n",
       "  Text(-0.621362,0.907694,''),\n",
       "  Text(-0.124468,-1.09294,''),\n",
       "  Text(1.07602,-0.228438,'')])"
      ]
     },
     "execution_count": 118,
     "metadata": {},
     "output_type": "execute_result"
    },
    {
     "data": {
      "image/png": "[encoded data removed]",
      "text/plain": [
       "<Figure size 432x288 with 1 Axes>"
      ]
     },
     "metadata": {},
     "output_type": "display_data"
    }
   ],
   "source": [
    "plt.pie(x['Count'])"
   ]
  },
  {
   "cell_type": "code",
   "execution_count": 119,
   "metadata": {},
   "outputs": [
    {
     "name": "stderr",
     "output_type": "stream",
     "text": [
      "C:\\Users\\Greg\\Anaconda3\\envs\\ai\\lib\\site-packages\\matplotlib\\legend.py:640: UserWarning: Unrecognized location \"lower corner\". Falling back on \"best\"; valid locations are\n",
      "\tbest\n",
      "\tupper right\n",
      "\tupper left\n",
      "\tlower left\n",
      "\tlower right\n",
      "\tright\n",
      "\tcenter left\n",
      "\tcenter right\n",
      "\tlower center\n",
      "\tupper center\n",
      "\tcenter\n",
      "\n",
      "  % (loc, '\\n\\t'.join(self.codes)))\n"
     ]
    },
    {
     "data": {
      "text/plain": [
       "<matplotlib.legend.Legend at 0x1f3233df240>"
      ]
     },
     "execution_count": 119,
     "metadata": {},
     "output_type": "execute_result"
    },
    {
     "data": {
      "image/png": "[encoded data removed]",
      "text/plain": [
       "<Figure size 432x288 with 1 Axes>"
      ]
     },
     "metadata": {},
     "output_type": "display_data"
    }
   ],
   "source": [
    "labels=x['Type']\n",
    "values4 =  x['Count']\n",
    "explode = (0.1, 0.6, 0.1, 0.1, 0.1, 0.1)\n",
    "pie = plt.pie(values4, labels=labels, explode=explode, shadow=True, \n",
    "autopct='%1.1f%%', pctdistance = 1.1, labeldistance = 1.3)\n",
    "plt.legend(pie[0], labels, loc=\"lower corner\", bbox_to_anchor = (1.5,1.5))"
   ]
  },
  {
   "cell_type": "code",
   "execution_count": 130,
   "metadata": {},
   "outputs": [
    {
     "name": "stdout",
     "output_type": "stream",
     "text": [
      "[14929, 6093547]\n",
      "        Type    Count\n",
      "0    HH_Care    57055\n",
      "1  Count All  6093548\n"
     ]
    }
   ],
   "source": [
    "# list of lists\n",
    "list_of_lists3 = [\n",
    "    ['HH_Care', 57055],\n",
    "    ['Count All',6093548]\n",
    "]\n",
    "\n",
    "# columns\n",
    "columns3 = ['Type', 'Count']\n",
    "\n",
    "x3=pd.DataFrame(list_of_lists3, columns=columns3)\n",
    "\n",
    "#Build dataframe of counts\n",
    "values5=[]\n",
    "values5.append(acute_hosp)\n",
    "values5.append(count)\n",
    "\n",
    "print(values5)\n",
    "print(x3)"
   ]
  },
  {
   "cell_type": "code",
   "execution_count": 131,
   "metadata": {},
   "outputs": [
    {
     "name": "stderr",
     "output_type": "stream",
     "text": [
      "C:\\Users\\Greg\\Anaconda3\\envs\\ai\\lib\\site-packages\\matplotlib\\legend.py:640: UserWarning: Unrecognized location \"lower corner\". Falling back on \"best\"; valid locations are\n",
      "\tbest\n",
      "\tupper right\n",
      "\tupper left\n",
      "\tlower left\n",
      "\tlower right\n",
      "\tright\n",
      "\tcenter left\n",
      "\tcenter right\n",
      "\tlower center\n",
      "\tupper center\n",
      "\tcenter\n",
      "\n",
      "  % (loc, '\\n\\t'.join(self.codes)))\n"
     ]
    },
    {
     "data": {
      "text/plain": [
       "<matplotlib.legend.Legend at 0x1f3235be668>"
      ]
     },
     "execution_count": 131,
     "metadata": {},
     "output_type": "execute_result"
    },
    {
     "data": {
      "image/png": "[encoded data removed]",
      "text/plain": [
       "<Figure size 432x288 with 1 Axes>"
      ]
     },
     "metadata": {},
     "output_type": "display_data"
    }
   ],
   "source": [
    "labels=x3['Type']\n",
    "values5 =  x3['Count']\n",
    "explode = (0.1, 0.1)\n",
    "pie = plt.pie(values5, labels=labels, explode=explode, shadow=True, \n",
    "autopct='%1.1f%%', pctdistance = 1.1, labeldistance = 1.3)\n",
    "plt.legend(pie[0], labels, loc=\"lower corner\", bbox_to_anchor = (1.5,1.5))"
   ]
  },
  {
   "cell_type": "code",
   "execution_count": null,
   "metadata": {},
   "outputs": [],
   "source": []
  }
 ],
 "metadata": {
  "kernelspec": {
   "display_name": "Python 3",
   "language": "python",
   "name": "python3"
  },
  "language_info": {
   "codemirror_mode": {
    "name": "ipython",
    "version": 3
   },
   "file_extension": ".py",
   "mimetype": "text/x-python",
   "name": "python",
   "nbconvert_exporter": "python",
   "pygments_lexer": "ipython3",
   "version": "3.6.8"
  }
 },
 "nbformat": 4,
 "nbformat_minor": 2
}
